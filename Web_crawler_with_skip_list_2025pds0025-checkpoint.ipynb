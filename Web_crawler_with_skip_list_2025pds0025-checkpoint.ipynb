{
 "cells": [
  {
   "cell_type": "code",
   "execution_count": 1,
   "id": "35ae05f3",
   "metadata": {},
   "outputs": [],
   "source": [
    "import random\n",
    "import time\n",
    "import os\n",
    "from selenium import webdriver\n",
    "#from selenium.webdriver.common.keys import Keys\n",
    "from selenium.webdriver.common.by import By\n",
    "#from selenium.webdriver.support.ui import Select\n",
    "from bs4 import BeautifulSoup as soup"
   ]
  },
  {
   "cell_type": "code",
   "execution_count": null,
   "id": "2c4b4920",
   "metadata": {},
   "outputs": [
    {
     "name": "stderr",
     "output_type": "stream",
     "text": [
      "C:\\Users\\Saikat Das\\AppData\\Local\\Temp\\ipykernel_9028\\3141562395.py:7: DeprecationWarning: executable_path has been deprecated, please pass in a Service object\n",
      "  driver = webdriver.Chrome(executable_path=ChromeDriverManager().install(), options=driver_opt)\n"
     ]
    }
   ],
   "source": [
    "driver_opt = webdriver.ChromeOptions()\n",
    "driver_opt.add_argument('--disable-blink-features=AutomationControlled')\n",
    "directory = {'download.default_directory': os.getcwd()}\n",
    "driver_opt.add_experimental_option('prefs', directory)\n",
    "\n",
    "from webdriver_manager.chrome import ChromeDriverManager\n",
    "driver = webdriver.Chrome(executable_path=ChromeDriverManager().install(), options=driver_opt)\n",
    "time.sleep(5)"
   ]
  },
  {
   "cell_type": "code",
   "execution_count": 81,
   "id": "35ae8b79",
   "metadata": {},
   "outputs": [
    {
     "name": "stdout",
     "output_type": "stream",
     "text": [
      "Enter Copany_Name: TCS\n"
     ]
    }
   ],
   "source": [
    "# Like for tcs: \"TCS\", for lic: \"LICHSGFIN\", and for reliance: \"RELIANCE\"\n",
    "Copany_Name = input(\"Enter Copany_Name: \")  "
   ]
  },
  {
   "cell_type": "code",
   "execution_count": 82,
   "id": "bec52525",
   "metadata": {},
   "outputs": [],
   "source": [
    "#Now here send url\n",
    "url = f\"https://www.nseindia.com/get-quotes/equity?symbol={Copany_Name}\"\n",
    "driver.get(url)\n",
    "driver.maximize_window()\n",
    "time.sleep(3)"
   ]
  },
  {
   "cell_type": "code",
   "execution_count": 83,
   "id": "e9251872",
   "metadata": {},
   "outputs": [],
   "source": [
    "historical_data = driver.find_element(By.XPATH, \"(//h2[normalize-space()='Historical Data'])[1]\")"
   ]
  },
  {
   "cell_type": "code",
   "execution_count": 84,
   "id": "b91dccdf",
   "metadata": {},
   "outputs": [],
   "source": [
    "#Before click on Historical Data i will have to scroll that page:\n",
    "driver.execute_script(\"window.scrollTo(0, 195);\")"
   ]
  },
  {
   "cell_type": "code",
   "execution_count": 85,
   "id": "0faf8b55",
   "metadata": {},
   "outputs": [],
   "source": [
    "historical_data.click()"
   ]
  },
  {
   "cell_type": "code",
   "execution_count": 86,
   "id": "028dfa10",
   "metadata": {},
   "outputs": [],
   "source": [
    "table_data = historical_data.find_element(By.XPATH, '//*[@id=\"equityHistoricalTable\"]/tbody')"
   ]
  },
  {
   "cell_type": "code",
   "execution_count": 87,
   "id": "8cc0f0a7",
   "metadata": {},
   "outputs": [],
   "source": [
    "# Checking html data come or note\n",
    "#table_data.get_attribute('innerHTML')"
   ]
  },
  {
   "cell_type": "code",
   "execution_count": 88,
   "id": "f60c528c",
   "metadata": {},
   "outputs": [],
   "source": [
    "real_html = soup(table_data.get_attribute('innerHTML'),'html.parser')"
   ]
  },
  {
   "cell_type": "code",
   "execution_count": 89,
   "id": "e096f49c",
   "metadata": {},
   "outputs": [],
   "source": [
    "#That using for show data fatch or not\n",
    "#real_html.find_all('td')"
   ]
  },
  {
   "cell_type": "code",
   "execution_count": 90,
   "id": "092d522d",
   "metadata": {},
   "outputs": [
    {
     "data": {
      "text/plain": [
       "'# Here i doing \"No of Trades\" data store_in_data_list at index: 5, 19, 33, so relation (13*i + i-1) and so on # For five days os range(no_of_days)\\n\\ni = 1\\ndata_list = []\\nfor _ in range(5): #RANGE(NO_OF_DATA_REQUIRED)\\n    indx = 13*i + (i-1)\\n    value = (real_html.find_all(\\'td\\')[indx].text).replace(\",\", \"\")\\n    #print(int(value))\\n    data_list.append(int(value))\\n    i += 1'"
      ]
     },
     "execution_count": 90,
     "metadata": {},
     "output_type": "execute_result"
    }
   ],
   "source": [
    "'''# For No of Trade\n",
    "# Here i doing \"No of Trades\" data store_in_data_list at index: 5, 19, 33, so relation (13*i + i-1) and so on # For five days os range(no_of_days)\n",
    "\n",
    "i = 1\n",
    "data_list = []\n",
    "for _ in range(5): #RANGE(NO_OF_DATA_REQUIRED)\n",
    "    indx = 13*i + (i-1)\n",
    "    value = (real_html.find_all('td')[indx].text).replace(\",\", \"\")\n",
    "    #print(int(value))\n",
    "    data_list.append(int(value))\n",
    "    i += 1'''"
   ]
  },
  {
   "cell_type": "code",
   "execution_count": 93,
   "id": "2bb41467",
   "metadata": {},
   "outputs": [],
   "source": [
    "# For Previous Close\n",
    "# Here i doing \"No of Trades\" data store_in_data_list at index: 5, 19, 33, so relation (13*i + i+ 5) and so on # For five days os range(no_of_days)\n",
    "data_list = []\n",
    "data_list.append(float(real_html.find_all('td')[5].text.replace(\",\", \"\")))\n",
    "i = 1\n",
    "\n",
    "\n",
    "for _ in range(4):\n",
    "    indx = (13*i) + i + 5\n",
    "    data_list.append(float(real_html.find_all('td')[indx].text.replace(\",\", \"\")))\n",
    "    i += 1"
   ]
  },
  {
   "cell_type": "code",
   "execution_count": 94,
   "id": "faa35e68",
   "metadata": {},
   "outputs": [
    {
     "name": "stdout",
     "output_type": "stream",
     "text": [
      "[3120.4, 3229.35, 3242.95, 3217.65, 3169.65]\n"
     ]
    }
   ],
   "source": [
    "print(data_list)"
   ]
  },
  {
   "cell_type": "markdown",
   "id": "cd365ea0",
   "metadata": {},
   "source": [
    "# For an Exaple"
   ]
  },
  {
   "cell_type": "code",
   "execution_count": 95,
   "id": "83f12e52",
   "metadata": {},
   "outputs": [
    {
     "data": {
      "text/plain": [
       "\"i = 1\\nfor _ in range(7):\\n    indx = 12*i + (i-1)*2\\n    print(real_html.find_all('td')[indx].text)\\n    i += 1\""
      ]
     },
     "execution_count": 95,
     "metadata": {},
     "output_type": "execute_result"
    }
   ],
   "source": [
    "# Here value i am printing at index: 12, 26, 40, --> 12*i + (i-1)*2\n",
    "'''i = 1\n",
    "for _ in range(7):\n",
    "    indx = 12*i + (i-1)*2\n",
    "    print(real_html.find_all('td')[indx].text)\n",
    "    i += 1'''"
   ]
  },
  {
   "cell_type": "markdown",
   "id": "30030cc6",
   "metadata": {},
   "source": [
    "# Scond Company"
   ]
  },
  {
   "cell_type": "code",
   "execution_count": 96,
   "id": "077b266b",
   "metadata": {},
   "outputs": [
    {
     "name": "stdout",
     "output_type": "stream",
     "text": [
      "Enter Copany_Name: RELIANCE\n"
     ]
    }
   ],
   "source": [
    "# Like for tcs: \"TCS\", for lic: \"LICHSGFIN\", and for reliance: \"RELIANCE\"\n",
    "Copany_Name = input(\"Enter Copany_Name: \")\n"
   ]
  },
  {
   "cell_type": "code",
   "execution_count": 97,
   "id": "022f52cc",
   "metadata": {},
   "outputs": [],
   "source": [
    "#Now here send url\n",
    "url = f\"https://www.nseindia.com/get-quotes/equity?symbol={Copany_Name}\"\n",
    "driver.get(url)\n",
    "driver.maximize_window()\n",
    "time.sleep(5)"
   ]
  },
  {
   "cell_type": "code",
   "execution_count": 98,
   "id": "2707ac67",
   "metadata": {},
   "outputs": [],
   "source": [
    "historical_data = driver.find_element(By.XPATH, \"(//h2[normalize-space()='Historical Data'])[1]\")\n",
    "time.sleep(3)"
   ]
  },
  {
   "cell_type": "code",
   "execution_count": 99,
   "id": "5804585f",
   "metadata": {},
   "outputs": [],
   "source": [
    "#Before click on Historical Data i will have to scroll that page:\n",
    "driver.execute_script(\"window.scrollTo(0, 195);\")"
   ]
  },
  {
   "cell_type": "code",
   "execution_count": 100,
   "id": "96614a94",
   "metadata": {},
   "outputs": [],
   "source": [
    "historical_data.click()"
   ]
  },
  {
   "cell_type": "code",
   "execution_count": 101,
   "id": "7e1ad768",
   "metadata": {},
   "outputs": [],
   "source": [
    "table_data = historical_data.find_element(By.XPATH, '//*[@id=\"equityHistoricalTable\"]/tbody')"
   ]
  },
  {
   "cell_type": "code",
   "execution_count": 102,
   "id": "1f474f6e",
   "metadata": {},
   "outputs": [],
   "source": [
    "real_html = soup(table_data.get_attribute('innerHTML'),'html.parser')"
   ]
  },
  {
   "cell_type": "code",
   "execution_count": 103,
   "id": "2966aa01",
   "metadata": {},
   "outputs": [
    {
     "data": {
      "text/plain": [
       "'# Here i doing \"No of Trades\" data store_in_data_list at index: 13, 27, 41, 55 and so on # For five days os range(no_of_days)\\n\\ni = 1\\ndata_list2 = []\\nfor _ in range(5): #RANGE(NO_OF_DATA_REQUIRED)\\n    indx = 13*i + (i-1)\\n    value = (real_html.find_all(\\'td\\')[indx].text).replace(\",\", \"\")\\n    #print(int(value))\\n    data_list2.append(int(value))\\n    i += 1'"
      ]
     },
     "execution_count": 103,
     "metadata": {},
     "output_type": "execute_result"
    }
   ],
   "source": [
    "'''# Here i doing \"No of Trades\" data store_in_data_list at index: 13, 27, 41, 55 and so on # For five days os range(no_of_days)\n",
    "\n",
    "i = 1\n",
    "data_list2 = []\n",
    "for _ in range(5): #RANGE(NO_OF_DATA_REQUIRED)\n",
    "    indx = 13*i + (i-1)\n",
    "    value = (real_html.find_all('td')[indx].text).replace(\",\", \"\")\n",
    "    #print(int(value))\n",
    "    data_list2.append(int(value))\n",
    "    i += 1'''"
   ]
  },
  {
   "cell_type": "code",
   "execution_count": 104,
   "id": "978dcc52",
   "metadata": {},
   "outputs": [],
   "source": [
    "# Here i doing \"No of Trades\" data store_in_data_list at index: 5, 19, 33, so relation (13*i + i+ 5) and so on # For five days os range(no_of_days)\n",
    "data_list2 = []\n",
    "data_list2.append(float(real_html.find_all('td')[5].text.replace(\",\", \"\")))\n",
    "i = 1\n",
    "\n",
    "\n",
    "for _ in range(4):\n",
    "    indx = (13*i) + i + 5\n",
    "    data_list2.append(float(real_html.find_all('td')[indx].text.replace(\",\", \"\")))\n",
    "    i += 1"
   ]
  },
  {
   "cell_type": "code",
   "execution_count": 105,
   "id": "8064d99f",
   "metadata": {},
   "outputs": [
    {
     "data": {
      "text/plain": [
       "[2588.35, 2619.75, 2598.05, 2569.3, 2585.4]"
      ]
     },
     "execution_count": 105,
     "metadata": {},
     "output_type": "execute_result"
    }
   ],
   "source": [
    "data_list2"
   ]
  },
  {
   "cell_type": "markdown",
   "id": "a8f00c02",
   "metadata": {},
   "source": [
    "# Now Data insertion and Deletion in Skip List"
   ]
  },
  {
   "cell_type": "code",
   "execution_count": 106,
   "id": "c62446cb",
   "metadata": {},
   "outputs": [
    {
     "name": "stdout",
     "output_type": "stream",
     "text": [
      "Successfully inserted key 3120.4\n",
      "Successfully inserted key 3229.35\n",
      "Successfully inserted key 3242.95\n",
      "Successfully inserted key 3217.65\n",
      "Successfully inserted key 3169.65\n",
      "\n",
      "\n",
      "Level 0:  3120.4 3169.65 3217.65 3229.35 3242.95 \n",
      "[3120.4, 3169.65, 3217.65, 3229.35, 3242.95]\n",
      "Successfully inserted key 2588.35\n",
      "Successfully inserted key 2619.75\n",
      "Successfully inserted key 2598.05\n",
      "Successfully inserted key 2569.3\n",
      "Successfully inserted key 2585.4\n",
      "\n",
      "\n",
      "Level 0:  2569.3 2585.4 2588.35 2598.05 2619.75 \n",
      "Level 1:  2569.3 2585.4 2588.35 2619.75 \n",
      "Level 2:  2588.35 2619.75 \n",
      "[2569.3, 2585.4, 2588.35, 2598.05, 2619.75]\n",
      "\n",
      "\n",
      "Enter which company's data you want to see, for K-th minimum value:\n",
      "If first company--> 1\n",
      "If second company--> 2\n",
      ":1\n",
      "Enter k-th : 2\n",
      "2-th smallest element: 3169.65\n"
     ]
    }
   ],
   "source": [
    "class Node(object):\n",
    "    def __init__(self, key, level):\n",
    "        self.key = key\n",
    "\n",
    "        # list to hold references to node of different level\n",
    "        self.forward = [None] * (level + 1)\n",
    "\n",
    "class SkipList(object):\n",
    "    def __init__(self, max_lvl, P):\n",
    "        self.MAXLVL = max_lvl\n",
    "        self.P = P\n",
    "        self.header = self.createNode(self.MAXLVL, -1)\n",
    "        self.level = 0\n",
    "\n",
    "    # create  new node\n",
    "    def createNode(self, lvl, key):\n",
    "        n = Node(key, lvl)\n",
    "        return n\n",
    "\n",
    "    # create random level for node\n",
    "    def randomLevel(self):\n",
    "        lvl = 0\n",
    "        while random.random() < self.P and \\\n",
    "                lvl < self.MAXLVL: lvl += 1\n",
    "        return lvl\n",
    "\n",
    "    # insert given key in skip list\n",
    "    def insertElement(self, key):\n",
    "        update = [None] * (self.MAXLVL + 1)\n",
    "        current = self.header\n",
    "\n",
    "        for i in range(self.level, -1, -1):\n",
    "            while current.forward[i] and \\\n",
    "                    current.forward[i].key < key:\n",
    "                current = current.forward[i]\n",
    "            update[i] = current\n",
    "\n",
    "        current = current.forward[0]\n",
    "\n",
    "        if current == None or current.key != key:\n",
    "            # Generate a random level for node\n",
    "            rlevel = self.randomLevel()\n",
    "\n",
    "            if rlevel > self.level:\n",
    "                for i in range(self.level + 1, rlevel + 1):\n",
    "                    update[i] = self.header\n",
    "                self.level = rlevel\n",
    "\n",
    "            # create new node with random level generated\n",
    "            n = self.createNode(rlevel, key)\n",
    "\n",
    "            # insert node by rearranging references\n",
    "            for i in range(rlevel + 1):\n",
    "                n.forward[i] = update[i].forward[i]\n",
    "                update[i].forward[i] = n\n",
    "\n",
    "            print(\"Successfully inserted key {}\".format(key))\n",
    "\n",
    "    def deleteElement(self, search_key):\n",
    "\n",
    "        # create update array and initialize it\n",
    "        update = [None] * (self.MAXLVL + 1)\n",
    "        current = self.header\n",
    "\n",
    "        for i in range(self.level, -1, -1):\n",
    "            while (current.forward[i] and current.forward[i].key < search_key):\n",
    "                current = current.forward[i]\n",
    "            update[i] = current\n",
    "\n",
    "        current = current.forward[0]\n",
    "\n",
    "        # If current node is target node\n",
    "        if current != None and current.key == search_key:\n",
    "\n",
    "            for i in range(self.level + 1):\n",
    "                if update[i].forward[i] != current:\n",
    "                    break\n",
    "                update[i].forward[i] = current.forward[i]\n",
    "\n",
    "            # Remove levels having no elements\n",
    "            while (self.level > 0 and self.header.forward[self.level] == None):\n",
    "                self.level -= 1\n",
    "            print(\"Successfully deleted {}\".format(search_key))\n",
    "\n",
    "    def searchElement(self, key):\n",
    "        current = self.header\n",
    "\n",
    "        for i in range(self.level, -1, -1):\n",
    "            while (current.forward[i] and current.forward[i].key < key):\n",
    "                current = current.forward[i]\n",
    "\n",
    "        current = current.forward[0]\n",
    "\n",
    "        if current and current.key == key:\n",
    "            print(\"Found key \", key)\n",
    "            return 1\n",
    "        else:\n",
    "            return 0\n",
    "\n",
    "    # Display skip list level wise\n",
    "    def displayList(self):\n",
    "        print(\"\\n\")\n",
    "        head = self.header\n",
    "        for lvl in range(self.level + 1):\n",
    "            print(\"Level {}: \".format(lvl), end=\" \")\n",
    "            node = head.forward[lvl]\n",
    "            while (node != None):\n",
    "                print(node.key, end=\" \")\n",
    "                node = node.forward[lvl]\n",
    "            print(\"\")\n",
    "\n",
    "    def zero_data(self):\n",
    "        li = []\n",
    "        head = self.header\n",
    "        node = head.forward[0]\n",
    "        while (node != None):\n",
    "            li.append(node.key)\n",
    "            node = node.forward[0]\n",
    "\n",
    "        return li\n",
    "    \n",
    "        \n",
    "    def kth_smallest(self, k):\n",
    "        count = 0\n",
    "        head_ = self.header\n",
    "        node = head_.forward[0]\n",
    "        while count<k-1:\n",
    "            node = node.forward[0]\n",
    "            count += 1\n",
    "            \n",
    "        return node.key\n",
    "\n",
    "\n",
    "# Driver to test above code\n",
    "if __name__ == '__main__':\n",
    "\n",
    "    # for first company\n",
    "    lst1 = SkipList(3, 0.5)\n",
    "    for value in data_list:\n",
    "        lst1.insertElement(value)\n",
    "\n",
    "    lst1.displayList()\n",
    "    li_com_1 = lst1.zero_data()\n",
    "    print(li_com_1)\n",
    "\n",
    "    # for second company\n",
    "    lst2 = SkipList(3, 0.5)\n",
    "    for value in data_list2:\n",
    "        lst2.insertElement(value)\n",
    "\n",
    "    lst2.displayList()\n",
    "    li_com_2 = lst2.zero_data()\n",
    "    print(li_com_2)\n",
    "    \n",
    "    \n",
    "\n",
    "    \n",
    "    # Intersection:\n",
    "    '''for val in data_list:\n",
    "        if lst2.searchElement(val):\n",
    "            print(f\"Yes first company value {val} present in second company.\")'''\n",
    "    \n",
    "    # Search Element:\n",
    "    '''choice_delet = int(input(\"Enter which company's data you want to Search:\\nIf first company--> 1\\nIf second company--> 2\\n:\"))  \n",
    "    s = int(input(\"Enter the Search element value: \"))\n",
    "    if choice_delet == 1:\n",
    "        # Means first company:\n",
    "        if lst1.searchElement(s):\n",
    "            print(\"Yes\")\n",
    "        else:\n",
    "            print(\"Not present\")\n",
    "    elif choice_delet == 2:\n",
    "        # Means second company\n",
    "        if lst2.searchElement(s):\n",
    "            print(\"Yes\")\n",
    "        else:\n",
    "            print(\"Not present\")'''\n",
    "    \n",
    "\n",
    "    # Delete node\n",
    "    '''choice_delet = int(input(\"Enter which company's data you want to delete:\\nIf first company--> 1\\nIf second company--> 2\\n:\"))\n",
    "    d = int(input(\"Enter the delete element value: \"))\n",
    "    if choice_delet == 1:\n",
    "        # Means first company:\n",
    "        print(\"WE will have to check ,element present or not: \")\n",
    "        if lst1.searchElement(d):\n",
    "            print(\"Yes element present.\")\n",
    "            lst1.deleteElement(d)\n",
    "            lst1.displayList()\n",
    "        else:\n",
    "            print(\"Element not present.\")\n",
    "\n",
    "    elif choice_delet == 2:\n",
    "        # Means second company\n",
    "        print(\"WE will have to check ,element present or not: \")\n",
    "        if lst2.searchElement(d):\n",
    "            print(\"Yes element present.\")\n",
    "            lst2.deleteElement(d)\n",
    "            lst2.displayList()\n",
    "        else:\n",
    "            print(\"Element not present.\")'''\n",
    "        \n",
    "\n",
    "\n",
    "    # find k-th element form any(First or Second) company\n",
    "    '''print(\"\\n\")\n",
    "    choice = int(input(\"Enter which company's data you want to see, for K-th minimum value:\\nIf first company--> 1\\nIf second company--> 2\\n:\"))\n",
    "    k = int(input(\"Enter k-th : \"))\n",
    "    if choice==1:\n",
    "        # Means first company:\n",
    "        k_value = lst1.kth_smallest(k)\n",
    "        print(f\"{k}-th smallest element: {k_value}\")\n",
    "    elif choice ==2:\n",
    "        # Means second company\n",
    "        k_value = lst2.kth_smallest(k)\n",
    "        print(f\"{k}-th smallest element: {k_value}\")'''\n",
    "    \n",
    "    \n",
    "\n"
   ]
  },
  {
   "cell_type": "code",
   "execution_count": null,
   "id": "cb35780a",
   "metadata": {},
   "outputs": [],
   "source": []
  }
 ],
 "metadata": {
  "kernelspec": {
   "display_name": "Python 3 (ipykernel)",
   "language": "python",
   "name": "python3"
  },
  "language_info": {
   "codemirror_mode": {
    "name": "ipython",
    "version": 3
   },
   "file_extension": ".py",
   "mimetype": "text/x-python",
   "name": "python",
   "nbconvert_exporter": "python",
   "pygments_lexer": "ipython3",
   "version": "3.9.12"
  }
 },
 "nbformat": 4,
 "nbformat_minor": 5
}
